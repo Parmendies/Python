{
 "cells": [
  {
   "cell_type": "code",
   "execution_count": 14,
   "metadata": {},
   "outputs": [
    {
     "name": "stdout",
     "output_type": "stream",
     "text": [
      "    Calisan ID             unvan  UnvanSeviyesi  Kidem  Puan   maas\n",
      "0            1             Cayci              1      5    70   2250\n",
      "1            2          Sekreter              2      5    70   2500\n",
      "2            3  Uzman Yardimcisi              3      5    70   3000\n",
      "3            4             Uzman              4      5    70   4000\n",
      "4            5  Proje Yoneticisi              5      5    70   5500\n",
      "5            6               Sef              6      5    70   7500\n",
      "6            7             Mudur              7      5    70  10000\n",
      "7            8          Direktor              8      5    70  15000\n",
      "8            9           C-level              9      5    70  25000\n",
      "9           10               CEO             10      5    70  50000\n",
      "10          11             Cayci              1      7    99   2000\n",
      "11          12          Sekreter              2      7     9   2500\n",
      "12          13  Uzman Yardimcisi              3      7    62   4000\n",
      "13          14             Uzman              4      4    38   3000\n",
      "14          15  Proje Yoneticisi              5      1    80   5000\n",
      "15          16               Sef              6      2    35   5000\n",
      "16          17             Mudur              7      8    99  12000\n",
      "17          18          Direktor              8      4    58  11000\n",
      "18          19           C-level              9      2    20  15000\n",
      "19          20               CEO             10      4    42  22000\n",
      "20          21             Cayci              1      8    11   2200\n",
      "21          22          Sekreter              2      2    53   2200\n",
      "22          23  Uzman Yardimcisi              3      8    50   2800\n",
      "23          24             Uzman              4      9    91   6000\n",
      "24          25  Proje Yoneticisi              5      9    71   5400\n",
      "25          26               Sef              6      1     2   4000\n",
      "26          27             Mudur              7     10    81  12000\n",
      "27          28          Direktor              8     10    38  10000\n",
      "28          29           C-level              9      1    50  15000\n",
      "29          30               CEO             10      9    83  60000\n"
     ]
    }
   ],
   "source": [
    "import pandas as pd\n",
    "veriler = pd.read_csv('maaslar.csv')\n",
    "veriler.drop('Calisan ID', axis=1)\n",
    "veriler.drop('unvan', axis=1)\n",
    "print(veriler)\n",
    "\n",
    "\n"
   ]
  }
 ],
 "metadata": {
  "kernelspec": {
   "display_name": "Python 3",
   "language": "python",
   "name": "python3"
  },
  "language_info": {
   "codemirror_mode": {
    "name": "ipython",
    "version": 3
   },
   "file_extension": ".py",
   "mimetype": "text/x-python",
   "name": "python",
   "nbconvert_exporter": "python",
   "pygments_lexer": "ipython3",
   "version": "3.10.12"
  }
 },
 "nbformat": 4,
 "nbformat_minor": 2
}
