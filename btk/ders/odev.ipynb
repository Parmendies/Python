{
 "cells": [
  {
   "cell_type": "code",
   "execution_count": 42,
   "metadata": {},
   "outputs": [
    {
     "name": "stdout",
     "output_type": "stream",
     "text": [
      "                            OLS Regression Results                            \n",
      "==============================================================================\n",
      "Dep. Variable:               humidity   R-squared:                       0.266\n",
      "Model:                            OLS   Adj. R-squared:                 -0.060\n",
      "Method:                 Least Squares   F-statistic:                    0.8165\n",
      "Date:                Wed, 10 Apr 2024   Prob (F-statistic):              0.546\n",
      "Time:                        14:01:58   Log-Likelihood:                -49.809\n",
      "No. Observations:                  14   AIC:                             109.6\n",
      "Df Residuals:                       9   BIC:                             112.8\n",
      "Df Model:                           4                                         \n",
      "Covariance Type:            nonrobust                                         \n",
      "==============================================================================\n",
      "                 coef    std err          t      P>|t|      [0.025      0.975]\n",
      "------------------------------------------------------------------------------\n",
      "x1             0.6484      0.506      1.282      0.232      -0.496       1.793\n",
      "x2            -6.2865      6.909     -0.910      0.387     -21.916       9.343\n",
      "x3            36.6564     39.905      0.919      0.382     -53.615     126.927\n",
      "x4            41.9135     36.464      1.149      0.280     -40.573     124.400\n",
      "x5            35.1064     39.339      0.892      0.395     -53.884     124.097\n",
      "==============================================================================\n",
      "Omnibus:                        0.887   Durbin-Watson:                   2.360\n",
      "Prob(Omnibus):                  0.642   Jarque-Bera (JB):                0.810\n",
      "Skew:                           0.424   Prob(JB):                        0.667\n",
      "Kurtosis:                       2.181   Cond. No.                     1.73e+03\n",
      "==============================================================================\n",
      "\n",
      "Notes:\n",
      "[1] Standard Errors assume that the covariance matrix of the errors is correctly specified.\n",
      "[2] The condition number is large, 1.73e+03. This might indicate that there are\n",
      "strong multicollinearity or other numerical problems.\n"
     ]
    },
    {
     "name": "stderr",
     "output_type": "stream",
     "text": [
      "/home/bimo/.local/lib/python3.10/site-packages/scipy/stats/_stats_py.py:1971: UserWarning: kurtosistest only valid for n>=20 ... continuing anyway, n=14\n",
      "  k, _ = kurtosistest(a, axis)\n"
     ]
    }
   ],
   "source": [
    "import pandas as pd\n",
    "import numpy as np\n",
    "veriler = pd.read_csv('odev.csv')\n",
    "\n",
    "outlook_dum = pd.get_dummies(veriler['outlook'],dtype='int')\n",
    "veriler.pop('outlook')\n",
    "veriler = pd.concat([veriler, outlook_dum], axis=1)\n",
    "veriler['play'] = (veriler['play'] == 'yes').astype(int)\n",
    "\n",
    "veriler['windy'] = (veriler['windy']).astype(int)\n",
    "play = veriler.pop('humidity')\n",
    "\n",
    "from sklearn.model_selection import train_test_split\n",
    "from sklearn.linear_model import LinearRegression\n",
    "import matplotlib.pyplot  as plt\n",
    "import statsmodels.api as sm\n",
    "\n",
    "ln  = LinearRegression()\n",
    "\n",
    "\n",
    "\n",
    "\n",
    "\n",
    "veriler.drop(veriler.columns[1],axis=1, inplace=True)\n",
    "\n",
    "\n",
    "\n",
    "sm_model = sm.OLS(play,veriler.values).fit()\n",
    "print(sm_model.summary())\n",
    "\n",
    "\n",
    "x_train, x_test, y_train, y_test = train_test_split(veriler, play)\n",
    "ln.fit(x_train,y_train)\n",
    "y_pred = ln.predict(x_test)\n",
    "\n"
   ]
  }
 ],
 "metadata": {
  "kernelspec": {
   "display_name": "Python 3",
   "language": "python",
   "name": "python3"
  },
  "language_info": {
   "codemirror_mode": {
    "name": "ipython",
    "version": 3
   },
   "file_extension": ".py",
   "mimetype": "text/x-python",
   "name": "python",
   "nbconvert_exporter": "python",
   "pygments_lexer": "ipython3",
   "version": "3.10.12"
  }
 },
 "nbformat": 4,
 "nbformat_minor": 2
}
