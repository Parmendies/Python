{
 "cells": [
  {
   "cell_type": "code",
   "execution_count": 5,
   "metadata": {},
   "outputs": [
    {
     "name": "stdout",
     "output_type": "stream",
     "text": [
      "Eğitim Hatası (MSE): 16897083.33\n",
      "Test Hatası (MSE): 16897083.33\n"
     ]
    }
   ],
   "source": [
    "import pandas as pd\n",
    "import numpy as np\n",
    "veriler = pd.read_csv('maaslar.csv')\n",
    "veriler.pop('unvan')\n",
    "maas = veriler.pop('maas')\n",
    "\n",
    "from sklearn.preprocessing import PolynomialFeatures\n",
    "from sklearn.linear_model import LinearRegression\n",
    "ln_reg = LinearRegression()\n",
    "\n",
    "poly_reg = PolynomialFeatures(degree=2)\n",
    "X_poly = poly_reg.fit_transform(veriler)\n",
    "\n",
    "ln_reg.fit(X_poly, maas)\n",
    "y_pred_train = ln_reg.predict(X_poly)\n",
    "\n",
    "from sklearn.metrics import mean_squared_error\n",
    "mse_train = mean_squared_error(maas, y_pred_train)\n",
    "print(\"Eğitim Hatası (MSE): {:.2f}\".format(mse_train))\n",
    "\n",
    "X_test_poly = poly_reg.transform(veriler)\n",
    "\n",
    "y_pred_test = ln_reg.predict(X_test_poly)\n",
    "\n",
    "mse_test = mean_squared_error(maas, y_pred_test)\n",
    "print(\"Test Hatası (MSE): {:.2f}\".format(mse_test))\n"
   ]
  }
 ],
 "metadata": {
  "kernelspec": {
   "display_name": "Python 3",
   "language": "python",
   "name": "python3"
  },
  "language_info": {
   "codemirror_mode": {
    "name": "ipython",
    "version": 3
   },
   "file_extension": ".py",
   "mimetype": "text/x-python",
   "name": "python",
   "nbconvert_exporter": "python",
   "pygments_lexer": "ipython3",
   "version": "3.10.12"
  }
 },
 "nbformat": 4,
 "nbformat_minor": 2
}
